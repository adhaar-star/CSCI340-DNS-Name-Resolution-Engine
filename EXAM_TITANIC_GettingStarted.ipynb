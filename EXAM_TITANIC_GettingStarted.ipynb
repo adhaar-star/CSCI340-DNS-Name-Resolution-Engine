{
  "nbformat": 4,
  "nbformat_minor": 0,
  "metadata": {
    "colab": {
      "name": "EXAM_TITANIC_GettingStarted.ipynb",
      "provenance": [],
      "collapsed_sections": [],
      "toc_visible": true,
      "include_colab_link": true
    },
    "kernelspec": {
      "name": "python3",
      "display_name": "Python 3"
    }
  },
  "cells": [
    {
      "cell_type": "markdown",
      "metadata": {
        "id": "view-in-github",
        "colab_type": "text"
      },
      "source": [
        "<a href=\"https://colab.research.google.com/github/adhaar-star/CSCI340-DNS-Name-Resolution-Engine/blob/master/EXAM_TITANIC_GettingStarted.ipynb\" target=\"_parent\"><img src=\"https://colab.research.google.com/assets/colab-badge.svg\" alt=\"Open In Colab\"/></a>"
      ]
    },
    {
      "cell_type": "markdown",
      "metadata": {
        "id": "n1jX7eKeKrFM"
      },
      "source": [
        "#EXAM - Spring 2021 - TITANIC\n",
        "##This Notebook is the first in the set*. The goal here is to Get Started. Load & Explore Data\n",
        "\n",
        "*[Once you complete have a good start on these initial goals, you should continue with the next phases at your own pace].\n"
      ]
    },
    {
      "cell_type": "markdown",
      "metadata": {
        "id": "_OL_DzBplIwt"
      },
      "source": [
        "IMPORT LIBRARIES & DATA"
      ]
    },
    {
      "cell_type": "markdown",
      "metadata": {
        "id": "UgXMGdb2PYC6"
      },
      "source": [
        "Read training data into a dataframe"
      ]
    },
    {
      "cell_type": "markdown",
      "metadata": {
        "id": "QbE8vMSHPeCR"
      },
      "source": [
        "Generally describe and view the Data"
      ]
    },
    {
      "cell_type": "markdown",
      "metadata": {
        "id": "ls21ru8eQRxS"
      },
      "source": [
        "Visualize the data, paying special attention to null or missing values (consider sns.heatmap)"
      ]
    },
    {
      "cell_type": "markdown",
      "metadata": {
        "id": "fdvkad8UknSD"
      },
      "source": [
        "Exploratory analysis of targets/labels - counting & plotting (consider sns.countplot)"
      ]
    },
    {
      "cell_type": "markdown",
      "metadata": {
        "id": "OmzgbV1cRKxT"
      },
      "source": [
        "Exploratory analysis of age, sex, pclass, siblings, parents, fares, etc. -  distribution, counting & plotting (consider sns.distplot)"
      ]
    },
    {
      "cell_type": "code",
      "metadata": {
        "id": "yU3uq6yKiGfU"
      },
      "source": [
        "import pandas as pd"
      ],
      "execution_count": 9,
      "outputs": []
    },
    {
      "cell_type": "code",
      "metadata": {
        "id": "b2rEPX3ziK_-"
      },
      "source": [
        "titanic = pd.read_csv(\"/content/titanic_train.csv\")"
      ],
      "execution_count": 10,
      "outputs": []
    },
    {
      "cell_type": "code",
      "metadata": {
        "colab": {
          "base_uri": "https://localhost:8080/"
        },
        "id": "IW7-BsCRkcnD",
        "outputId": "fd8ea3b0-8f47-4886-fe01-3ad8d783b655"
      },
      "source": [
        "titanic.values"
      ],
      "execution_count": 11,
      "outputs": [
        {
          "output_type": "execute_result",
          "data": {
            "text/plain": [
              "array([[1, 0, 3, ..., 7.25, nan, 'S'],\n",
              "       [2, 1, 1, ..., 71.2833, 'C85', 'C'],\n",
              "       [3, 1, 3, ..., 7.925, nan, 'S'],\n",
              "       ...,\n",
              "       [889, 0, 3, ..., 23.45, nan, 'S'],\n",
              "       [890, 1, 1, ..., 30.0, 'C148', 'C'],\n",
              "       [891, 0, 3, ..., 7.75, nan, 'Q']], dtype=object)"
            ]
          },
          "metadata": {
            "tags": []
          },
          "execution_count": 11
        }
      ]
    },
    {
      "cell_type": "code",
      "metadata": {
        "id": "pvCo0Ya2kjyO"
      },
      "source": [
        "titanic"
      ],
      "execution_count": null,
      "outputs": []
    }
  ]
}